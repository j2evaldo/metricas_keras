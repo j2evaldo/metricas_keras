{
 "cells": [
  {
   "cell_type": "code",
   "execution_count": 1,
   "metadata": {},
   "outputs": [
    {
     "name": "stderr",
     "output_type": "stream",
     "text": [
      "2022-12-19 06:49:33.852199: I tensorflow/core/platform/cpu_feature_guard.cc:193] This TensorFlow binary is optimized with oneAPI Deep Neural Network Library (oneDNN) to use the following CPU instructions in performance-critical operations:  AVX2 FMA\n",
      "To enable them in other operations, rebuild TensorFlow with the appropriate compiler flags.\n",
      "2022-12-19 06:49:34.661774: W tensorflow/compiler/xla/stream_executor/platform/default/dso_loader.cc:64] Could not load dynamic library 'libnvinfer.so.7'; dlerror: libnvinfer.so.7: cannot open shared object file: No such file or directory\n",
      "2022-12-19 06:49:34.661844: W tensorflow/compiler/xla/stream_executor/platform/default/dso_loader.cc:64] Could not load dynamic library 'libnvinfer_plugin.so.7'; dlerror: libnvinfer_plugin.so.7: cannot open shared object file: No such file or directory\n",
      "2022-12-19 06:49:34.661851: W tensorflow/compiler/tf2tensorrt/utils/py_utils.cc:38] TF-TRT Warning: Cannot dlopen some TensorRT libraries. If you would like to use Nvidia GPU with TensorRT, please make sure the missing libraries mentioned above are installed properly.\n"
     ]
    }
   ],
   "source": [
    "import tensorflow as tf\n",
    "import keras\n",
    "import numpy as np"
   ]
  },
  {
   "cell_type": "code",
   "execution_count": 2,
   "metadata": {},
   "outputs": [],
   "source": [
    "# Testando se a instalação do Tensorflow foi bem sucedida\n",
    "def main():\n",
    "    msg = tf.constant('Hello, TensorFlow')\n",
    "    tf.print(msg)\n"
   ]
  },
  {
   "cell_type": "code",
   "execution_count": 3,
   "metadata": {},
   "outputs": [
    {
     "name": "stdout",
     "output_type": "stream",
     "text": [
      "Hello, TensorFlow\n"
     ]
    },
    {
     "name": "stderr",
     "output_type": "stream",
     "text": [
      "2022-12-19 06:49:35.491003: I tensorflow/compiler/xla/stream_executor/cuda/cuda_gpu_executor.cc:981] successful NUMA node read from SysFS had negative value (-1), but there must be at least one NUMA node, so returning NUMA node zero\n",
      "2022-12-19 06:49:35.518034: W tensorflow/compiler/xla/stream_executor/platform/default/dso_loader.cc:64] Could not load dynamic library 'libcudnn.so.8'; dlerror: libcudnn.so.8: cannot open shared object file: No such file or directory\n",
      "2022-12-19 06:49:35.518050: W tensorflow/core/common_runtime/gpu/gpu_device.cc:1934] Cannot dlopen some GPU libraries. Please make sure the missing libraries mentioned above are installed properly if you would like to use GPU. Follow the guide at https://www.tensorflow.org/install/gpu for how to download and setup the required libraries for your platform.\n",
      "Skipping registering GPU devices...\n",
      "2022-12-19 06:49:35.518425: I tensorflow/core/platform/cpu_feature_guard.cc:193] This TensorFlow binary is optimized with oneAPI Deep Neural Network Library (oneDNN) to use the following CPU instructions in performance-critical operations:  AVX2 FMA\n",
      "To enable them in other operations, rebuild TensorFlow with the appropriate compiler flags.\n"
     ]
    }
   ],
   "source": [
    "main()"
   ]
  },
  {
   "cell_type": "markdown",
   "metadata": {},
   "source": [
    "### **Criando o Modelo**"
   ]
  },
  {
   "cell_type": "code",
   "execution_count": 4,
   "metadata": {},
   "outputs": [],
   "source": [
    "model = keras.Sequential([\n",
    "    keras.layers.Dense(units= 1, input_shape= [1])\n",
    "    ])\n",
    "    \n",
    "model.compile(optimizer= 'sgd', loss= 'mean_squared_error')"
   ]
  },
  {
   "cell_type": "code",
   "execution_count": 7,
   "metadata": {},
   "outputs": [
    {
     "data": {
      "text/plain": [
       "<keras.callbacks.History at 0x7f9d8979a740>"
      ]
     },
     "execution_count": 7,
     "metadata": {},
     "output_type": "execute_result"
    }
   ],
   "source": [
    "xs = np.array([-1.0, 0.0, 1.0, 2.0, 3.0, 4.0], dtype= float)\n",
    "ys= np.array([-3.0, -1.0, 1.0, 3.0, 5.0, 7.0], dtype= float)\n",
    "\n",
    "model.fit(xs, ys, epochs= 500, verbose= 0)"
   ]
  },
  {
   "cell_type": "code",
   "execution_count": 8,
   "metadata": {},
   "outputs": [
    {
     "name": "stdout",
     "output_type": "stream",
     "text": [
      "1/1 [==============================] - 0s 38ms/step\n",
      "39\n"
     ]
    }
   ],
   "source": [
    "resultado = model.predict([20.0])\n",
    "resultado = list(resultado[0])[0]\n",
    "print(round(resultado))\n"
   ]
  },
  {
   "cell_type": "code",
   "execution_count": 10,
   "metadata": {},
   "outputs": [],
   "source": [
    "import tensorflow as tf\n",
    "import numpy as np\n",
    "from tensorflow import keras"
   ]
  },
  {
   "cell_type": "code",
   "execution_count": 14,
   "metadata": {},
   "outputs": [
    {
     "name": "stdout",
     "output_type": "stream",
     "text": [
      "WARNING:tensorflow:5 out of the last 6 calls to <function Model.make_predict_function.<locals>.predict_function at 0x7f9d9e77dfc0> triggered tf.function retracing. Tracing is expensive and the excessive number of tracings could be due to (1) creating @tf.function repeatedly in a loop, (2) passing tensors with different shapes, (3) passing Python objects instead of tensors. For (1), please define your @tf.function outside of the loop. For (2), @tf.function has reduce_retracing=True option that can avoid unnecessary retracing. For (3), please refer to https://www.tensorflow.org/guide/function#controlling_retracing and https://www.tensorflow.org/api_docs/python/tf/function for  more details.\n",
      "1/1 [==============================] - 0s 43ms/step\n",
      "400\n"
     ]
    }
   ],
   "source": [
    "xs= np.array([1.0, 2.0, 3.0, 4.0, 5.0, 6.0, 7.0], dtype= float)\n",
    "ys= np.array([100., 150.0, 200.0, 250.0, 300.0, 350.0, 400.0], dtype= float)\n",
    "\n",
    "model = keras.Sequential([\n",
    "    keras.layers.Dense(units= 1, input_shape= [1])\n",
    "])\n",
    "\n",
    "model.compile(optimizer= 'sgd', loss= 'mean_squared_error')\n",
    "\n",
    "model.fit(xs, ys, epochs= 1000, verbose= 0)\n",
    "\n",
    "resultado = model.predict([7.0])\n",
    "resultado = list(resultado[0])[0]\n",
    "print(round(resultado))"
   ]
  },
  {
   "cell_type": "markdown",
   "metadata": {},
   "source": [
    "---\n",
    "## **Funções de Ativação no Ternsor Flow**"
   ]
  },
  {
   "cell_type": "markdown",
   "metadata": {},
   "source": [
    " - **Relu** - Garante que o valor de saída seja positivo<br>\n",
    " -- Função de ativação geral e é usada na maioria das casos atulamente (Mas apenas camadas ocultas) \n",
    "\n",
    " - **Tanh** - Calcula a tangente hiperbólica. Similar a sigmoide, mas fica em [-1, 1]\n",
    "\n",
    " - **Sigmoid** - Empurra os valores de saída para os extremos. Valores no intervalo [0,1]<br>\n",
    " -- Geralmente funcionam melhor no vaso de classificadores. Problema em gradientes pequenos (não aprende)\n",
    "\n",
    " - **Softmax** - Ativa o maior valor. Permite classificação multipla\n",
    "\n",
    " Como regra geral podemo iniciar utilizando Relu e depois passar para as outras funções de ativação no caso da relu, não fornecer resultados ótimos"
   ]
  },
  {
   "cell_type": "markdown",
   "metadata": {},
   "source": [
    "---\n",
    "## **Otimizadores**\n",
    "\n",
    "Algoritmos que melhoram (otimizam) a predição da rende neural <br>\n",
    "\n",
    "Para que isso ocorra, eles modificam os pesos das sinapses para que um neuronio tenha maior importancia que outro. alguns exemplos<p>\n",
    "\n",
    "-**SGD** Stochastic Gradient Descendent): é calculado um gradiente da função de erro (loss) para cada peso na rede.<br>\n",
    "\n",
    "-**Nesterov Momentum**: aumenta a convergencia de outros algoritmos. Usa informações de rodadas anteriores para melhor tomanda de decisões. <br>\n",
    "\n",
    "-**Adam** (Adaptative Moment Estimator): Armazena a édia de deterioração calculado de gradientes prévios. Um dos mais populares da biblioteca. "
   ]
  },
  {
   "cell_type": "markdown",
   "metadata": {},
   "source": [
    "---\n",
    "## **Métricas no Keras**"
   ]
  },
  {
   "cell_type": "markdown",
   "metadata": {},
   "source": [
    "- Podemos definir quais métricas utilizaremos de Kera para avalilar o desempenho de nossa rede durante o nosso treinamento.<br>\n",
    "\n",
    "- Isto é feito atraés do argumento <b>métrics</b> no método <b>compile()</b><br>\n",
    "\n",
    "- Os valores das métricas escolhodas são salvas após cadas época de trainmento.<br>\n",
    "\n",
    "- Podemos obter os valores a partir do objeto <b>history</b> que é retornado pelo método <b>fit</b> "
   ]
  },
  {
   "cell_type": "markdown",
   "metadata": {},
   "source": [
    "### **Métricas de Regressão no Keras**"
   ]
  },
  {
   "cell_type": "markdown",
   "metadata": {},
   "source": [
    "- **Erro** Aprensenta a diferença entre o que deveria ter sido previsto e o que foi previsto de fato.<br>\n",
    "\n",
    "- ** Erro Quadrático Médio** (Mean Square Error): É uma métrica mais comum para previsões temporais. Descarta valores negativos através da elevação ao quadrado. \n",
    "\n",
    "- **Raiz do Erro Quadrático Médio** (Root Mean Squared Error) padroniza o erro através da rais quadrada dos valores.\n",
    "\n",
    "- **Erro Absoluto Médio** (Mean Absolute Error) descarta aos valores negativos através do valor absoluto (sem sinal). Não penaliza erros grandes como o MSE faz.\n",
    "\n",
    "- **Erro Absoluto Médio Percentual** (Mean Absolute Percentage Error) dá uma ideia do tamanho dos erros se comparados com os valores"
   ]
  },
  {
   "cell_type": "markdown",
   "metadata": {},
   "source": [
    "### **Métricas de Classificação no Keras**"
   ]
  },
  {
   "cell_type": "markdown",
   "metadata": {},
   "source": [
    "- **Binary Accuracy** - Quando tenho de classificar se algo é ou não é. Exemplo: Peça Boa ou Peça Ruim\n",
    "\n",
    "- **Categorical Accuracy** - Quando tenho que classificar multi classes. Exemplo: Gato, Cachorro, Elefante\n",
    "\n",
    "- **Sparse Categorical Accuracy**\n",
    "\n",
    "- **Top K Categorical Accuracy**\n",
    "\n",
    "- **Sparce Top K Categorical Accuracy**\n"
   ]
  },
  {
   "cell_type": "code",
   "execution_count": null,
   "metadata": {},
   "outputs": [],
   "source": []
  }
 ],
 "metadata": {
  "kernelspec": {
   "display_name": "Python 3.10.4 ('py10')",
   "language": "python",
   "name": "python3"
  },
  "language_info": {
   "codemirror_mode": {
    "name": "ipython",
    "version": 3
   },
   "file_extension": ".py",
   "mimetype": "text/x-python",
   "name": "python",
   "nbconvert_exporter": "python",
   "pygments_lexer": "ipython3",
   "version": "3.10.4"
  },
  "orig_nbformat": 4,
  "vscode": {
   "interpreter": {
    "hash": "14f2a0716530ff180011a5888144c43470b29192f878ee74fce997d3c4673ddf"
   }
  }
 },
 "nbformat": 4,
 "nbformat_minor": 2
}
